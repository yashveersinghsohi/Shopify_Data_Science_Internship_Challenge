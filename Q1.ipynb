{
  "nbformat": 4,
  "nbformat_minor": 0,
  "metadata": {
    "colab": {
      "name": "Q1.ipynb",
      "provenance": [],
      "authorship_tag": "ABX9TyML84+td8EDrk95azQGOuOq",
      "include_colab_link": true
    },
    "kernelspec": {
      "name": "python3",
      "display_name": "Python 3"
    },
    "language_info": {
      "name": "python"
    }
  },
  "cells": [
    {
      "cell_type": "markdown",
      "metadata": {
        "id": "view-in-github",
        "colab_type": "text"
      },
      "source": [
        "<a href=\"https://colab.research.google.com/github/yashveersinghsohi/Shopify_Data_Science_Internship_Challenge/blob/main/Q1.ipynb\" target=\"_parent\"><img src=\"https://colab.research.google.com/assets/colab-badge.svg\" alt=\"Open In Colab\"/></a>"
      ]
    },
    {
      "cell_type": "markdown",
      "source": [
        "# Importing Packages"
      ],
      "metadata": {
        "id": "T4uOJK7yK0i6"
      }
    },
    {
      "cell_type": "code",
      "execution_count": 1,
      "metadata": {
        "id": "dPT4GtpGKzrk"
      },
      "outputs": [],
      "source": [
        "import pandas as pd\n",
        "import numpy as np\n",
        "import matplotlib.pyplot as plt\n",
        "from sklearn.preprocessing import StandardScaler"
      ]
    },
    {
      "cell_type": "markdown",
      "source": [
        "****"
      ],
      "metadata": {
        "id": "8Pp2MCSKS5AM"
      }
    },
    {
      "cell_type": "markdown",
      "source": [
        "# Dataset"
      ],
      "metadata": {
        "id": "v-rqCKDuK5LA"
      }
    },
    {
      "cell_type": "markdown",
      "source": [
        "Reading the dataset."
      ],
      "metadata": {
        "id": "RgEY6SJtttu1"
      }
    },
    {
      "cell_type": "code",
      "source": [
        "data = pd.read_csv(\"/content/Data.csv\")\n",
        "print(f\"Shape of the dataset - {data.shape}\")\n",
        "print(\"First few rows in the dataset - \")\n",
        "data.head()"
      ],
      "metadata": {
        "colab": {
          "base_uri": "https://localhost:8080/",
          "height": 241
        },
        "id": "AdFbLZnMK5yz",
        "outputId": "78a70765-4ebe-4661-e900-ee2f247ad2fb"
      },
      "execution_count": 2,
      "outputs": [
        {
          "output_type": "stream",
          "name": "stdout",
          "text": [
            "Shape of the dataset - (5000, 7)\n",
            "First few rows in the dataset - \n"
          ]
        },
        {
          "output_type": "execute_result",
          "data": {
            "text/html": [
              "\n",
              "  <div id=\"df-6b9a875e-6fd4-4b51-a4f0-19dedd8a2743\">\n",
              "    <div class=\"colab-df-container\">\n",
              "      <div>\n",
              "<style scoped>\n",
              "    .dataframe tbody tr th:only-of-type {\n",
              "        vertical-align: middle;\n",
              "    }\n",
              "\n",
              "    .dataframe tbody tr th {\n",
              "        vertical-align: top;\n",
              "    }\n",
              "\n",
              "    .dataframe thead th {\n",
              "        text-align: right;\n",
              "    }\n",
              "</style>\n",
              "<table border=\"1\" class=\"dataframe\">\n",
              "  <thead>\n",
              "    <tr style=\"text-align: right;\">\n",
              "      <th></th>\n",
              "      <th>order_id</th>\n",
              "      <th>shop_id</th>\n",
              "      <th>user_id</th>\n",
              "      <th>order_amount</th>\n",
              "      <th>total_items</th>\n",
              "      <th>payment_method</th>\n",
              "      <th>created_at</th>\n",
              "    </tr>\n",
              "  </thead>\n",
              "  <tbody>\n",
              "    <tr>\n",
              "      <th>0</th>\n",
              "      <td>1</td>\n",
              "      <td>53</td>\n",
              "      <td>746</td>\n",
              "      <td>224</td>\n",
              "      <td>2</td>\n",
              "      <td>cash</td>\n",
              "      <td>2017-03-13 12:36:56</td>\n",
              "    </tr>\n",
              "    <tr>\n",
              "      <th>1</th>\n",
              "      <td>2</td>\n",
              "      <td>92</td>\n",
              "      <td>925</td>\n",
              "      <td>90</td>\n",
              "      <td>1</td>\n",
              "      <td>cash</td>\n",
              "      <td>2017-03-03 17:38:52</td>\n",
              "    </tr>\n",
              "    <tr>\n",
              "      <th>2</th>\n",
              "      <td>3</td>\n",
              "      <td>44</td>\n",
              "      <td>861</td>\n",
              "      <td>144</td>\n",
              "      <td>1</td>\n",
              "      <td>cash</td>\n",
              "      <td>2017-03-14 4:23:56</td>\n",
              "    </tr>\n",
              "    <tr>\n",
              "      <th>3</th>\n",
              "      <td>4</td>\n",
              "      <td>18</td>\n",
              "      <td>935</td>\n",
              "      <td>156</td>\n",
              "      <td>1</td>\n",
              "      <td>credit_card</td>\n",
              "      <td>2017-03-26 12:43:37</td>\n",
              "    </tr>\n",
              "    <tr>\n",
              "      <th>4</th>\n",
              "      <td>5</td>\n",
              "      <td>18</td>\n",
              "      <td>883</td>\n",
              "      <td>156</td>\n",
              "      <td>1</td>\n",
              "      <td>credit_card</td>\n",
              "      <td>2017-03-01 4:35:11</td>\n",
              "    </tr>\n",
              "  </tbody>\n",
              "</table>\n",
              "</div>\n",
              "      <button class=\"colab-df-convert\" onclick=\"convertToInteractive('df-6b9a875e-6fd4-4b51-a4f0-19dedd8a2743')\"\n",
              "              title=\"Convert this dataframe to an interactive table.\"\n",
              "              style=\"display:none;\">\n",
              "        \n",
              "  <svg xmlns=\"http://www.w3.org/2000/svg\" height=\"24px\"viewBox=\"0 0 24 24\"\n",
              "       width=\"24px\">\n",
              "    <path d=\"M0 0h24v24H0V0z\" fill=\"none\"/>\n",
              "    <path d=\"M18.56 5.44l.94 2.06.94-2.06 2.06-.94-2.06-.94-.94-2.06-.94 2.06-2.06.94zm-11 1L8.5 8.5l.94-2.06 2.06-.94-2.06-.94L8.5 2.5l-.94 2.06-2.06.94zm10 10l.94 2.06.94-2.06 2.06-.94-2.06-.94-.94-2.06-.94 2.06-2.06.94z\"/><path d=\"M17.41 7.96l-1.37-1.37c-.4-.4-.92-.59-1.43-.59-.52 0-1.04.2-1.43.59L10.3 9.45l-7.72 7.72c-.78.78-.78 2.05 0 2.83L4 21.41c.39.39.9.59 1.41.59.51 0 1.02-.2 1.41-.59l7.78-7.78 2.81-2.81c.8-.78.8-2.07 0-2.86zM5.41 20L4 18.59l7.72-7.72 1.47 1.35L5.41 20z\"/>\n",
              "  </svg>\n",
              "      </button>\n",
              "      \n",
              "  <style>\n",
              "    .colab-df-container {\n",
              "      display:flex;\n",
              "      flex-wrap:wrap;\n",
              "      gap: 12px;\n",
              "    }\n",
              "\n",
              "    .colab-df-convert {\n",
              "      background-color: #E8F0FE;\n",
              "      border: none;\n",
              "      border-radius: 50%;\n",
              "      cursor: pointer;\n",
              "      display: none;\n",
              "      fill: #1967D2;\n",
              "      height: 32px;\n",
              "      padding: 0 0 0 0;\n",
              "      width: 32px;\n",
              "    }\n",
              "\n",
              "    .colab-df-convert:hover {\n",
              "      background-color: #E2EBFA;\n",
              "      box-shadow: 0px 1px 2px rgba(60, 64, 67, 0.3), 0px 1px 3px 1px rgba(60, 64, 67, 0.15);\n",
              "      fill: #174EA6;\n",
              "    }\n",
              "\n",
              "    [theme=dark] .colab-df-convert {\n",
              "      background-color: #3B4455;\n",
              "      fill: #D2E3FC;\n",
              "    }\n",
              "\n",
              "    [theme=dark] .colab-df-convert:hover {\n",
              "      background-color: #434B5C;\n",
              "      box-shadow: 0px 1px 3px 1px rgba(0, 0, 0, 0.15);\n",
              "      filter: drop-shadow(0px 1px 2px rgba(0, 0, 0, 0.3));\n",
              "      fill: #FFFFFF;\n",
              "    }\n",
              "  </style>\n",
              "\n",
              "      <script>\n",
              "        const buttonEl =\n",
              "          document.querySelector('#df-6b9a875e-6fd4-4b51-a4f0-19dedd8a2743 button.colab-df-convert');\n",
              "        buttonEl.style.display =\n",
              "          google.colab.kernel.accessAllowed ? 'block' : 'none';\n",
              "\n",
              "        async function convertToInteractive(key) {\n",
              "          const element = document.querySelector('#df-6b9a875e-6fd4-4b51-a4f0-19dedd8a2743');\n",
              "          const dataTable =\n",
              "            await google.colab.kernel.invokeFunction('convertToInteractive',\n",
              "                                                     [key], {});\n",
              "          if (!dataTable) return;\n",
              "\n",
              "          const docLinkHtml = 'Like what you see? Visit the ' +\n",
              "            '<a target=\"_blank\" href=https://colab.research.google.com/notebooks/data_table.ipynb>data table notebook</a>'\n",
              "            + ' to learn more about interactive tables.';\n",
              "          element.innerHTML = '';\n",
              "          dataTable['output_type'] = 'display_data';\n",
              "          await google.colab.output.renderOutput(dataTable, element);\n",
              "          const docLink = document.createElement('div');\n",
              "          docLink.innerHTML = docLinkHtml;\n",
              "          element.appendChild(docLink);\n",
              "        }\n",
              "      </script>\n",
              "    </div>\n",
              "  </div>\n",
              "  "
            ],
            "text/plain": [
              "   order_id  shop_id  user_id  ...  total_items  payment_method           created_at\n",
              "0         1       53      746  ...            2            cash  2017-03-13 12:36:56\n",
              "1         2       92      925  ...            1            cash  2017-03-03 17:38:52\n",
              "2         3       44      861  ...            1            cash   2017-03-14 4:23:56\n",
              "3         4       18      935  ...            1     credit_card  2017-03-26 12:43:37\n",
              "4         5       18      883  ...            1     credit_card   2017-03-01 4:35:11\n",
              "\n",
              "[5 rows x 7 columns]"
            ]
          },
          "metadata": {},
          "execution_count": 2
        }
      ]
    },
    {
      "cell_type": "markdown",
      "source": [
        "Looking at the data types and possible null values in the dataset."
      ],
      "metadata": {
        "id": "ATHcKtaHtvNO"
      }
    },
    {
      "cell_type": "code",
      "source": [
        "data.info()"
      ],
      "metadata": {
        "colab": {
          "base_uri": "https://localhost:8080/"
        },
        "id": "A2bp9PPCLCHv",
        "outputId": "10c62212-7c80-4c77-b70d-eced566b8e77"
      },
      "execution_count": 3,
      "outputs": [
        {
          "output_type": "stream",
          "name": "stdout",
          "text": [
            "<class 'pandas.core.frame.DataFrame'>\n",
            "RangeIndex: 5000 entries, 0 to 4999\n",
            "Data columns (total 7 columns):\n",
            " #   Column          Non-Null Count  Dtype \n",
            "---  ------          --------------  ----- \n",
            " 0   order_id        5000 non-null   int64 \n",
            " 1   shop_id         5000 non-null   int64 \n",
            " 2   user_id         5000 non-null   int64 \n",
            " 3   order_amount    5000 non-null   int64 \n",
            " 4   total_items     5000 non-null   int64 \n",
            " 5   payment_method  5000 non-null   object\n",
            " 6   created_at      5000 non-null   object\n",
            "dtypes: int64(5), object(2)\n",
            "memory usage: 273.6+ KB\n"
          ]
        }
      ]
    },
    {
      "cell_type": "markdown",
      "source": [
        "Clearly the data has no null values."
      ],
      "metadata": {
        "id": "h9KlsEEVuC7M"
      }
    },
    {
      "cell_type": "markdown",
      "source": [
        "****"
      ],
      "metadata": {
        "id": "lUhZhP4-S6kV"
      }
    },
    {
      "cell_type": "markdown",
      "source": [
        "# How was the AOV calculated in the first place?"
      ],
      "metadata": {
        "id": "97_7TFmquG-0"
      }
    },
    {
      "cell_type": "markdown",
      "source": [
        "It seems that the `Average Order Value` was calculated by taking the mean of the `order_amount` column as shown below."
      ],
      "metadata": {
        "id": "DxDMufa7uQ6Y"
      }
    },
    {
      "cell_type": "code",
      "source": [
        "print(\"AOV calculated in the question: {}$\".format(round(data[\"order_amount\"].mean(), 2)))"
      ],
      "metadata": {
        "colab": {
          "base_uri": "https://localhost:8080/"
        },
        "id": "KnAGtr7hqvV6",
        "outputId": "f8dba721-6d91-419c-a88d-6e0d68471235"
      },
      "execution_count": 4,
      "outputs": [
        {
          "output_type": "stream",
          "name": "stdout",
          "text": [
            "AOV calculated in the question: 3145.13$\n"
          ]
        }
      ]
    },
    {
      "cell_type": "markdown",
      "source": [
        "****"
      ],
      "metadata": {
        "id": "22t9_hgVS79f"
      }
    },
    {
      "cell_type": "markdown",
      "source": [
        "# What is wrong in the AOV calculation above?"
      ],
      "metadata": {
        "id": "pvP3dNaa1sE4"
      }
    },
    {
      "cell_type": "markdown",
      "source": [
        "Since we have a much higher average than what we intuitively expect, it makes sense to plot the distribution of `order_amount` and check if we have any outliers or not."
      ],
      "metadata": {
        "id": "yPD-XN883DJB"
      }
    },
    {
      "cell_type": "code",
      "source": [
        "fig, ax = plt.subplots(1, 2, figsize=(20, 6))\n",
        "data[\"order_amount\"].plot.hist(ax=ax[0])\n",
        "ax[0].set_xlabel(\"Order Amount\", size=12)\n",
        "ax[0].set_ylabel(\"Frequency\", size=12)\n",
        "ax[0].set_title(\"Distribution of Order Amount\", size=15)\n",
        "\n",
        "data[\"order_amount\"].plot.box(ax=ax[1])\n",
        "ax[1].set_ylabel(\"Order Amount\", size=12)\n",
        "ax[1].set_title(\"Box Plot of Order Amount\", size=15)\n",
        "plt.show()"
      ],
      "metadata": {
        "colab": {
          "base_uri": "https://localhost:8080/",
          "height": 409
        },
        "id": "pHGs5uNj1wJv",
        "outputId": "3735b114-3901-42d7-b204-47f5bbe63421"
      },
      "execution_count": 5,
      "outputs": [
        {
          "output_type": "display_data",
          "data": {
            "image/png": "[encoded data removed]",
            "text/plain": [
              "<Figure size 1440x432 with 2 Axes>"
            ]
          },
          "metadata": {
            "needs_background": "light"
          }
        }
      ]
    },
    {
      "cell_type": "markdown",
      "source": [
        "The distribution clearly reveals that there are a hige outliers in `order_amounts`.\n",
        "\n",
        "In order to identify these outliers, lets take a closer look on how the `order_amounts` are calculated:\n",
        "\n",
        "$$order\\_amount_i = total\\_items_i*amount\\_per\\_item_i$$\n",
        "\n",
        "This means that the amount a customer pays for an order $i$ is the product of the number of items purchased and the amount of one such item. In this case the item is a pair of Sneakers.\n",
        "\n",
        "**Thus, to identify outliers in `order_amount`, it would make sense to identify outliers in `total_items` and in `amount_per_item`.**\n",
        "\n",
        "Note: The column for `amount_per_item` needs to be created (it was not given in the input dataset)."
      ],
      "metadata": {
        "id": "rPagv-BB3oJ4"
      }
    },
    {
      "cell_type": "markdown",
      "source": [
        "****"
      ],
      "metadata": {
        "id": "ipW2aWS_S9FV"
      }
    },
    {
      "cell_type": "markdown",
      "source": [
        "# Identifying Outliers in `amount_per_item`, and `total_items`"
      ],
      "metadata": {
        "id": "MoBaT6AXRChq"
      }
    },
    {
      "cell_type": "markdown",
      "source": [
        "Creating `amount_per_item`"
      ],
      "metadata": {
        "id": "D2uOafcNRY1u"
      }
    },
    {
      "cell_type": "code",
      "source": [
        "data[\"amount_per_item\"] = data[\"order_amount\"]/data[\"total_items\"]"
      ],
      "metadata": {
        "id": "mfhQHCYy1wCt"
      },
      "execution_count": 6,
      "outputs": []
    },
    {
      "cell_type": "markdown",
      "source": [
        "**Distribution of `amount_per_item`**"
      ],
      "metadata": {
        "id": "KN2uCAZAHi0o"
      }
    },
    {
      "cell_type": "code",
      "source": [
        "fig, ax = plt.subplots(1, 2, figsize=(20, 6))\n",
        "data[\"amount_per_item\"].plot.hist(ax=ax[0])\n",
        "ax[0].set_xlabel(\"Amount per Item\", size=12)\n",
        "ax[0].set_ylabel(\"Frequency\", size=12)\n",
        "ax[0].set_title(\"Distribution of Amount per Item\", size=15)\n",
        "\n",
        "data[\"amount_per_item\"].plot.box(ax=ax[1])\n",
        "ax[1].set_ylabel(\"Amount per Item\", size=12)\n",
        "ax[1].set_title(\"Box Plot of Amount per Item\", size=15)\n",
        "plt.show()"
      ],
      "metadata": {
        "colab": {
          "base_uri": "https://localhost:8080/",
          "height": 409
        },
        "id": "EvoGeDLeHe34",
        "outputId": "3a1b0a0d-d807-4cc9-c3bc-509d516f43a3"
      },
      "execution_count": 7,
      "outputs": [
        {
          "output_type": "display_data",
          "data": {
            "image/png": "[encoded data removed]",
            "text/plain": [
              "<Figure size 1440x432 with 2 Axes>"
            ]
          },
          "metadata": {
            "needs_background": "light"
          }
        }
      ]
    },
    {
      "cell_type": "markdown",
      "source": [
        "As suspected, there are a few very large outliers. It does not seem likely that a pair of Sneakers would cost close to 2500$. Even if that was true, it certainly does not makes sense to include this in the AOV calculation.\n",
        "\n",
        "Lets see how many outlier values lie in the top $1$ percentile of the distribution above."
      ],
      "metadata": {
        "id": "DRhK3cltILnU"
      }
    },
    {
      "cell_type": "code",
      "source": [
        "condition = data[\"amount_per_item\"]>data[\"amount_per_item\"].quantile(0.99)\n",
        "amount_per_item_outliers = data[condition]\n",
        "print(f\"Number of Outliers in distribution of Amount per Item - {amount_per_item_outliers.shape[0]}\")\n",
        "print(\"Outlier 'Amount per Item' values - {} $\".format(*amount_per_item_outliers[\"amount_per_item\"].unique()))\n",
        "print(\"Shop id(s) corresponding to shops that sell these expensive sneakers - {}\".format(*amount_per_item_outliers[\"shop_id\"].unique()))"
      ],
      "metadata": {
        "colab": {
          "base_uri": "https://localhost:8080/"
        },
        "id": "FlUPiueXIDGG",
        "outputId": "86113e0d-faab-4a52-f526-2fc5843394be"
      },
      "execution_count": 8,
      "outputs": [
        {
          "output_type": "stream",
          "name": "stdout",
          "text": [
            "Number of Outliers in distribution of Amount per Item - 46\n",
            "Outlier 'Amount per Item' values - 25725.0 $\n",
            "Shop id(s) corresponding to shops that sell these expensive sneakers - 78\n"
          ]
        }
      ]
    },
    {
      "cell_type": "markdown",
      "source": [
        "This reveals that there are `46` outliers in `amount_per_item` column, where each pair of sneakers were sold for `25,725$`. This seems like a exorbitant amount for a pair. It could either be a mistake, or the sneakers were celebrity editions. Either way, these should not be included in the AOV calculation, as they skew the average heavily."
      ],
      "metadata": {
        "id": "uuSzRs5kOgsg"
      }
    },
    {
      "cell_type": "markdown",
      "source": [
        "**Distribution of `total_items`**"
      ],
      "metadata": {
        "id": "3DDTY_iqHm4r"
      }
    },
    {
      "cell_type": "code",
      "source": [
        "temp = pd.DataFrame(\n",
        "    np.c_[\n",
        "          data[\"total_items\"].value_counts().sort_index().index,\n",
        "          data[\"total_items\"].value_counts().sort_index().to_numpy()\n",
        "        ],\n",
        "    columns=[\"total_items\", \"count\"]\n",
        "  )\n",
        "print(\"Table showing total number of items sold on each order, and their value counts\\n\", temp, end=\"\\n\\n\")\n",
        "\n",
        "fig, ax = plt.subplots(figsize=(8, 5))\n",
        "temp.set_index(\"total_items\").plot.bar(ax=ax)\n",
        "ax.set_xlabel(\"Total Items\", size=12)\n",
        "ax.set_ylabel(\"Frequency\", size=12)\n",
        "ax.set_title(\"Bar plor for Total Items sold on each order\", size=15)\n",
        "plt.show()"
      ],
      "metadata": {
        "colab": {
          "base_uri": "https://localhost:8080/",
          "height": 561
        },
        "id": "B_J6syTwHpgX",
        "outputId": "420a9e0e-3add-4044-baeb-7b63209737b2"
      },
      "execution_count": 9,
      "outputs": [
        {
          "output_type": "stream",
          "name": "stdout",
          "text": [
            "Table showing total number of items sold on each order, and their value counts\n",
            "    total_items  count\n",
            "0            1   1830\n",
            "1            2   1832\n",
            "2            3    941\n",
            "3            4    293\n",
            "4            5     77\n",
            "5            6      9\n",
            "6            8      1\n",
            "7         2000     17\n",
            "\n"
          ]
        },
        {
          "output_type": "display_data",
          "data": {
            "image/png": "[encoded data removed]",
            "text/plain": [
              "<Figure size 576x360 with 1 Axes>"
            ]
          },
          "metadata": {
            "needs_background": "light"
          }
        }
      ]
    },
    {
      "cell_type": "markdown",
      "source": [
        "It seems there are 17 orders where customers bought $2000$ sneakers on each order. This definitely seems like an outlier, and we should remove these orders before calculating AOV to ensure that the value calculated is not heavily skewed."
      ],
      "metadata": {
        "id": "0MLDzSjkQgZV"
      }
    },
    {
      "cell_type": "markdown",
      "source": [
        "****"
      ],
      "metadata": {
        "id": "eoXNd_8QS-tc"
      }
    },
    {
      "cell_type": "markdown",
      "source": [
        "# Removing Outliers and Calculating AOV again"
      ],
      "metadata": {
        "id": "bYbnXHQWVHTr"
      }
    },
    {
      "cell_type": "markdown",
      "source": [
        "Filtering Outliers"
      ],
      "metadata": {
        "id": "TdfFfDCQSKtN"
      }
    },
    {
      "cell_type": "code",
      "source": [
        "condition1 = data[\"amount_per_item\"]<data[\"amount_per_item\"].quantile(0.99)\n",
        "condition2 = data[\"total_items\"]!=2000\n",
        "data = data[condition1 & condition2]\n",
        "print(f\"Shape of dataset after outlier removal - {data.shape}\")\n",
        "print(\"First few rows of the new dataset - \")\n",
        "data.head()"
      ],
      "metadata": {
        "colab": {
          "base_uri": "https://localhost:8080/",
          "height": 241
        },
        "id": "jZaDG_XXQ6sC",
        "outputId": "8bd8c6ae-df64-47f4-cab0-1f29620e2a3a"
      },
      "execution_count": 10,
      "outputs": [
        {
          "output_type": "stream",
          "name": "stdout",
          "text": [
            "Shape of dataset after outlier removal - (4903, 8)\n",
            "First few rows of the new dataset - \n"
          ]
        },
        {
          "output_type": "execute_result",
          "data": {
            "text/html": [
              "\n",
              "  <div id=\"df-6d71ae45-48d2-4d2b-a201-c3f18e961a64\">\n",
              "    <div class=\"colab-df-container\">\n",
              "      <div>\n",
              "<style scoped>\n",
              "    .dataframe tbody tr th:only-of-type {\n",
              "        vertical-align: middle;\n",
              "    }\n",
              "\n",
              "    .dataframe tbody tr th {\n",
              "        vertical-align: top;\n",
              "    }\n",
              "\n",
              "    .dataframe thead th {\n",
              "        text-align: right;\n",
              "    }\n",
              "</style>\n",
              "<table border=\"1\" class=\"dataframe\">\n",
              "  <thead>\n",
              "    <tr style=\"text-align: right;\">\n",
              "      <th></th>\n",
              "      <th>order_id</th>\n",
              "      <th>shop_id</th>\n",
              "      <th>user_id</th>\n",
              "      <th>order_amount</th>\n",
              "      <th>total_items</th>\n",
              "      <th>payment_method</th>\n",
              "      <th>created_at</th>\n",
              "      <th>amount_per_item</th>\n",
              "    </tr>\n",
              "  </thead>\n",
              "  <tbody>\n",
              "    <tr>\n",
              "      <th>0</th>\n",
              "      <td>1</td>\n",
              "      <td>53</td>\n",
              "      <td>746</td>\n",
              "      <td>224</td>\n",
              "      <td>2</td>\n",
              "      <td>cash</td>\n",
              "      <td>2017-03-13 12:36:56</td>\n",
              "      <td>112.0</td>\n",
              "    </tr>\n",
              "    <tr>\n",
              "      <th>1</th>\n",
              "      <td>2</td>\n",
              "      <td>92</td>\n",
              "      <td>925</td>\n",
              "      <td>90</td>\n",
              "      <td>1</td>\n",
              "      <td>cash</td>\n",
              "      <td>2017-03-03 17:38:52</td>\n",
              "      <td>90.0</td>\n",
              "    </tr>\n",
              "    <tr>\n",
              "      <th>2</th>\n",
              "      <td>3</td>\n",
              "      <td>44</td>\n",
              "      <td>861</td>\n",
              "      <td>144</td>\n",
              "      <td>1</td>\n",
              "      <td>cash</td>\n",
              "      <td>2017-03-14 4:23:56</td>\n",
              "      <td>144.0</td>\n",
              "    </tr>\n",
              "    <tr>\n",
              "      <th>3</th>\n",
              "      <td>4</td>\n",
              "      <td>18</td>\n",
              "      <td>935</td>\n",
              "      <td>156</td>\n",
              "      <td>1</td>\n",
              "      <td>credit_card</td>\n",
              "      <td>2017-03-26 12:43:37</td>\n",
              "      <td>156.0</td>\n",
              "    </tr>\n",
              "    <tr>\n",
              "      <th>4</th>\n",
              "      <td>5</td>\n",
              "      <td>18</td>\n",
              "      <td>883</td>\n",
              "      <td>156</td>\n",
              "      <td>1</td>\n",
              "      <td>credit_card</td>\n",
              "      <td>2017-03-01 4:35:11</td>\n",
              "      <td>156.0</td>\n",
              "    </tr>\n",
              "  </tbody>\n",
              "</table>\n",
              "</div>\n",
              "      <button class=\"colab-df-convert\" onclick=\"convertToInteractive('df-6d71ae45-48d2-4d2b-a201-c3f18e961a64')\"\n",
              "              title=\"Convert this dataframe to an interactive table.\"\n",
              "              style=\"display:none;\">\n",
              "        \n",
              "  <svg xmlns=\"http://www.w3.org/2000/svg\" height=\"24px\"viewBox=\"0 0 24 24\"\n",
              "       width=\"24px\">\n",
              "    <path d=\"M0 0h24v24H0V0z\" fill=\"none\"/>\n",
              "    <path d=\"M18.56 5.44l.94 2.06.94-2.06 2.06-.94-2.06-.94-.94-2.06-.94 2.06-2.06.94zm-11 1L8.5 8.5l.94-2.06 2.06-.94-2.06-.94L8.5 2.5l-.94 2.06-2.06.94zm10 10l.94 2.06.94-2.06 2.06-.94-2.06-.94-.94-2.06-.94 2.06-2.06.94z\"/><path d=\"M17.41 7.96l-1.37-1.37c-.4-.4-.92-.59-1.43-.59-.52 0-1.04.2-1.43.59L10.3 9.45l-7.72 7.72c-.78.78-.78 2.05 0 2.83L4 21.41c.39.39.9.59 1.41.59.51 0 1.02-.2 1.41-.59l7.78-7.78 2.81-2.81c.8-.78.8-2.07 0-2.86zM5.41 20L4 18.59l7.72-7.72 1.47 1.35L5.41 20z\"/>\n",
              "  </svg>\n",
              "      </button>\n",
              "      \n",
              "  <style>\n",
              "    .colab-df-container {\n",
              "      display:flex;\n",
              "      flex-wrap:wrap;\n",
              "      gap: 12px;\n",
              "    }\n",
              "\n",
              "    .colab-df-convert {\n",
              "      background-color: #E8F0FE;\n",
              "      border: none;\n",
              "      border-radius: 50%;\n",
              "      cursor: pointer;\n",
              "      display: none;\n",
              "      fill: #1967D2;\n",
              "      height: 32px;\n",
              "      padding: 0 0 0 0;\n",
              "      width: 32px;\n",
              "    }\n",
              "\n",
              "    .colab-df-convert:hover {\n",
              "      background-color: #E2EBFA;\n",
              "      box-shadow: 0px 1px 2px rgba(60, 64, 67, 0.3), 0px 1px 3px 1px rgba(60, 64, 67, 0.15);\n",
              "      fill: #174EA6;\n",
              "    }\n",
              "\n",
              "    [theme=dark] .colab-df-convert {\n",
              "      background-color: #3B4455;\n",
              "      fill: #D2E3FC;\n",
              "    }\n",
              "\n",
              "    [theme=dark] .colab-df-convert:hover {\n",
              "      background-color: #434B5C;\n",
              "      box-shadow: 0px 1px 3px 1px rgba(0, 0, 0, 0.15);\n",
              "      filter: drop-shadow(0px 1px 2px rgba(0, 0, 0, 0.3));\n",
              "      fill: #FFFFFF;\n",
              "    }\n",
              "  </style>\n",
              "\n",
              "      <script>\n",
              "        const buttonEl =\n",
              "          document.querySelector('#df-6d71ae45-48d2-4d2b-a201-c3f18e961a64 button.colab-df-convert');\n",
              "        buttonEl.style.display =\n",
              "          google.colab.kernel.accessAllowed ? 'block' : 'none';\n",
              "\n",
              "        async function convertToInteractive(key) {\n",
              "          const element = document.querySelector('#df-6d71ae45-48d2-4d2b-a201-c3f18e961a64');\n",
              "          const dataTable =\n",
              "            await google.colab.kernel.invokeFunction('convertToInteractive',\n",
              "                                                     [key], {});\n",
              "          if (!dataTable) return;\n",
              "\n",
              "          const docLinkHtml = 'Like what you see? Visit the ' +\n",
              "            '<a target=\"_blank\" href=https://colab.research.google.com/notebooks/data_table.ipynb>data table notebook</a>'\n",
              "            + ' to learn more about interactive tables.';\n",
              "          element.innerHTML = '';\n",
              "          dataTable['output_type'] = 'display_data';\n",
              "          await google.colab.output.renderOutput(dataTable, element);\n",
              "          const docLink = document.createElement('div');\n",
              "          docLink.innerHTML = docLinkHtml;\n",
              "          element.appendChild(docLink);\n",
              "        }\n",
              "      </script>\n",
              "    </div>\n",
              "  </div>\n",
              "  "
            ],
            "text/plain": [
              "   order_id  shop_id  ...           created_at  amount_per_item\n",
              "0         1       53  ...  2017-03-13 12:36:56            112.0\n",
              "1         2       92  ...  2017-03-03 17:38:52             90.0\n",
              "2         3       44  ...   2017-03-14 4:23:56            144.0\n",
              "3         4       18  ...  2017-03-26 12:43:37            156.0\n",
              "4         5       18  ...   2017-03-01 4:35:11            156.0\n",
              "\n",
              "[5 rows x 8 columns]"
            ]
          },
          "metadata": {},
          "execution_count": 10
        }
      ]
    },
    {
      "cell_type": "markdown",
      "source": [
        "Corrected AOV"
      ],
      "metadata": {
        "id": "tpoiaroNYa4b"
      }
    },
    {
      "cell_type": "code",
      "source": [
        "print(\"Corrected Average Order Value - {}$\".format(round(data[\"order_amount\"].mean(), 2)))"
      ],
      "metadata": {
        "colab": {
          "base_uri": "https://localhost:8080/"
        },
        "id": "lm2n7xPuYdw9",
        "outputId": "40278524-a549-43b7-a8de-4a4d294e4c62"
      },
      "execution_count": 11,
      "outputs": [
        {
          "output_type": "stream",
          "name": "stdout",
          "text": [
            "Corrected Average Order Value - 300.16$\n"
          ]
        }
      ]
    },
    {
      "cell_type": "markdown",
      "source": [
        "Average Total Items purchased on each order"
      ],
      "metadata": {
        "id": "X9TK221JZUiM"
      }
    },
    {
      "cell_type": "code",
      "source": [
        "print(\"Average Total Items purchased on each order - {}\".format(round(data[\"total_items\"].mean())))"
      ],
      "metadata": {
        "colab": {
          "base_uri": "https://localhost:8080/"
        },
        "id": "AlY-zI7IZZxF",
        "outputId": "731cbfb0-ec8f-42de-9431-27f4758923cc"
      },
      "execution_count": 12,
      "outputs": [
        {
          "output_type": "stream",
          "name": "stdout",
          "text": [
            "Average Total Items purchased on each order - 2\n"
          ]
        }
      ]
    },
    {
      "cell_type": "markdown",
      "source": [
        "Average price of each pair of sneakers"
      ],
      "metadata": {
        "id": "uTqNnsa3bYa-"
      }
    },
    {
      "cell_type": "code",
      "source": [
        "print(\"Average price of each pair of sneakers - {}$\".format(data[\"order_amount\"].sum()/data[\"total_items\"].sum()))"
      ],
      "metadata": {
        "colab": {
          "base_uri": "https://localhost:8080/"
        },
        "id": "mvGq4u9wWfBI",
        "outputId": "0e481cbd-683b-4896-9c43-3e81a365581a"
      },
      "execution_count": 13,
      "outputs": [
        {
          "output_type": "stream",
          "name": "stdout",
          "text": [
            "Average price of each pair of sneakers - 150.4$\n"
          ]
        }
      ]
    },
    {
      "cell_type": "markdown",
      "source": [
        "These values make much more sense intuitively. Collectively they indicate that on average customers bought 2 pairs of sneakers, which on average costed close to 150\\$. Hence on each order these customers spent about 300\\$."
      ],
      "metadata": {
        "id": "P3BgJ8--SOZo"
      }
    },
    {
      "cell_type": "markdown",
      "source": [
        "****"
      ],
      "metadata": {
        "id": "NsmbENv5TADi"
      }
    },
    {
      "cell_type": "markdown",
      "source": [
        "# What New Metric can be used for this dataset?"
      ],
      "metadata": {
        "id": "p6cNBGOxkBlF"
      }
    },
    {
      "cell_type": "markdown",
      "source": [
        "I feel it is more appropriate to analyse the data with more than one metric. To do this, I am keep track of the following 4 quantities for each store in the dataset:\n",
        "1. **`footfall`**: The number of users that order from each store.\n",
        "2. **`cart_size`**: The average number of items in a single order from each store.\n",
        "3. **`item_cost`**: The average cost of each item in the store.\n",
        "4. **`revenue`**: The total revenue generated by each store.\n",
        "\n",
        "Out of these, `revenue` is what most companies would be interested in, as that is what drives the business. The other three metrics are used to understand what drives the `revenue` generated from each store, and they provide hints as to what can be done to improve the `revenue` of a particular store."
      ],
      "metadata": {
        "id": "U515Sb_Z4xpM"
      }
    },
    {
      "cell_type": "code",
      "source": [
        "grp_by_store = data.groupby(by=[\"shop_id\"])\n",
        "footfall = grp_by_store[\"user_id\"].count()\n",
        "cart_size = grp_by_store[\"total_items\"].mean()\n",
        "item_cost = grp_by_store[\"amount_per_item\"].mean()\n",
        "revenue = grp_by_store[\"order_amount\"].sum()"
      ],
      "metadata": {
        "id": "ak4aYuTRkF33"
      },
      "execution_count": 14,
      "outputs": []
    },
    {
      "cell_type": "markdown",
      "source": [
        "Note: The `footfall` is not measured using distinct users. This is because the fact that there could be many orders placed by a single user suggests that the given store is popular, and I would like to capture that information."
      ],
      "metadata": {
        "id": "S5d05bdk6-QX"
      }
    },
    {
      "cell_type": "code",
      "source": [
        "metrics = pd.DataFrame(\n",
        "    np.c_[footfall, cart_size, item_cost, revenue],\n",
        "    columns = [\"footfall\", \"cart_size\", \"item_cost\", \"revenue\"]\n",
        ")\n",
        "metrics.index.name = \"shop_id\""
      ],
      "metadata": {
        "id": "_lol5CYKPD8e"
      },
      "execution_count": 15,
      "outputs": []
    },
    {
      "cell_type": "markdown",
      "source": [
        "****"
      ],
      "metadata": {
        "id": "koL19llKTBPN"
      }
    },
    {
      "cell_type": "markdown",
      "source": [
        "# Inferences made from these Metrics"
      ],
      "metadata": {
        "id": "0RDM_T-MPZrf"
      }
    },
    {
      "cell_type": "markdown",
      "source": [
        "Let us look at the minimum and maximum `revenues` generated by any store, and what are the values for the other metrics in these cases."
      ],
      "metadata": {
        "id": "wobL9EDRPclQ"
      }
    },
    {
      "cell_type": "markdown",
      "source": [
        "**Maximum revenue store**"
      ],
      "metadata": {
        "id": "KhoqxdvqPlWc"
      }
    },
    {
      "cell_type": "code",
      "source": [
        "metrics[metrics[\"revenue\"] == metrics[\"revenue\"].max()]"
      ],
      "metadata": {
        "colab": {
          "base_uri": "https://localhost:8080/",
          "height": 112
        },
        "id": "-B7SkjQiPFs1",
        "outputId": "0f4d258f-7d62-4a1a-888a-f78ee407c58e"
      },
      "execution_count": 16,
      "outputs": [
        {
          "output_type": "execute_result",
          "data": {
            "text/html": [
              "\n",
              "  <div id=\"df-16bbec5d-92be-46f3-9b35-7d414c3890fb\">\n",
              "    <div class=\"colab-df-container\">\n",
              "      <div>\n",
              "<style scoped>\n",
              "    .dataframe tbody tr th:only-of-type {\n",
              "        vertical-align: middle;\n",
              "    }\n",
              "\n",
              "    .dataframe tbody tr th {\n",
              "        vertical-align: top;\n",
              "    }\n",
              "\n",
              "    .dataframe thead th {\n",
              "        text-align: right;\n",
              "    }\n",
              "</style>\n",
              "<table border=\"1\" class=\"dataframe\">\n",
              "  <thead>\n",
              "    <tr style=\"text-align: right;\">\n",
              "      <th></th>\n",
              "      <th>footfall</th>\n",
              "      <th>cart_size</th>\n",
              "      <th>item_cost</th>\n",
              "      <th>revenue</th>\n",
              "    </tr>\n",
              "    <tr>\n",
              "      <th>shop_id</th>\n",
              "      <th></th>\n",
              "      <th></th>\n",
              "      <th></th>\n",
              "      <th></th>\n",
              "    </tr>\n",
              "  </thead>\n",
              "  <tbody>\n",
              "    <tr>\n",
              "      <th>86</th>\n",
              "      <td>61.0</td>\n",
              "      <td>1.934426</td>\n",
              "      <td>196.0</td>\n",
              "      <td>23128.0</td>\n",
              "    </tr>\n",
              "  </tbody>\n",
              "</table>\n",
              "</div>\n",
              "      <button class=\"colab-df-convert\" onclick=\"convertToInteractive('df-16bbec5d-92be-46f3-9b35-7d414c3890fb')\"\n",
              "              title=\"Convert this dataframe to an interactive table.\"\n",
              "              style=\"display:none;\">\n",
              "        \n",
              "  <svg xmlns=\"http://www.w3.org/2000/svg\" height=\"24px\"viewBox=\"0 0 24 24\"\n",
              "       width=\"24px\">\n",
              "    <path d=\"M0 0h24v24H0V0z\" fill=\"none\"/>\n",
              "    <path d=\"M18.56 5.44l.94 2.06.94-2.06 2.06-.94-2.06-.94-.94-2.06-.94 2.06-2.06.94zm-11 1L8.5 8.5l.94-2.06 2.06-.94-2.06-.94L8.5 2.5l-.94 2.06-2.06.94zm10 10l.94 2.06.94-2.06 2.06-.94-2.06-.94-.94-2.06-.94 2.06-2.06.94z\"/><path d=\"M17.41 7.96l-1.37-1.37c-.4-.4-.92-.59-1.43-.59-.52 0-1.04.2-1.43.59L10.3 9.45l-7.72 7.72c-.78.78-.78 2.05 0 2.83L4 21.41c.39.39.9.59 1.41.59.51 0 1.02-.2 1.41-.59l7.78-7.78 2.81-2.81c.8-.78.8-2.07 0-2.86zM5.41 20L4 18.59l7.72-7.72 1.47 1.35L5.41 20z\"/>\n",
              "  </svg>\n",
              "      </button>\n",
              "      \n",
              "  <style>\n",
              "    .colab-df-container {\n",
              "      display:flex;\n",
              "      flex-wrap:wrap;\n",
              "      gap: 12px;\n",
              "    }\n",
              "\n",
              "    .colab-df-convert {\n",
              "      background-color: #E8F0FE;\n",
              "      border: none;\n",
              "      border-radius: 50%;\n",
              "      cursor: pointer;\n",
              "      display: none;\n",
              "      fill: #1967D2;\n",
              "      height: 32px;\n",
              "      padding: 0 0 0 0;\n",
              "      width: 32px;\n",
              "    }\n",
              "\n",
              "    .colab-df-convert:hover {\n",
              "      background-color: #E2EBFA;\n",
              "      box-shadow: 0px 1px 2px rgba(60, 64, 67, 0.3), 0px 1px 3px 1px rgba(60, 64, 67, 0.15);\n",
              "      fill: #174EA6;\n",
              "    }\n",
              "\n",
              "    [theme=dark] .colab-df-convert {\n",
              "      background-color: #3B4455;\n",
              "      fill: #D2E3FC;\n",
              "    }\n",
              "\n",
              "    [theme=dark] .colab-df-convert:hover {\n",
              "      background-color: #434B5C;\n",
              "      box-shadow: 0px 1px 3px 1px rgba(0, 0, 0, 0.15);\n",
              "      filter: drop-shadow(0px 1px 2px rgba(0, 0, 0, 0.3));\n",
              "      fill: #FFFFFF;\n",
              "    }\n",
              "  </style>\n",
              "\n",
              "      <script>\n",
              "        const buttonEl =\n",
              "          document.querySelector('#df-16bbec5d-92be-46f3-9b35-7d414c3890fb button.colab-df-convert');\n",
              "        buttonEl.style.display =\n",
              "          google.colab.kernel.accessAllowed ? 'block' : 'none';\n",
              "\n",
              "        async function convertToInteractive(key) {\n",
              "          const element = document.querySelector('#df-16bbec5d-92be-46f3-9b35-7d414c3890fb');\n",
              "          const dataTable =\n",
              "            await google.colab.kernel.invokeFunction('convertToInteractive',\n",
              "                                                     [key], {});\n",
              "          if (!dataTable) return;\n",
              "\n",
              "          const docLinkHtml = 'Like what you see? Visit the ' +\n",
              "            '<a target=\"_blank\" href=https://colab.research.google.com/notebooks/data_table.ipynb>data table notebook</a>'\n",
              "            + ' to learn more about interactive tables.';\n",
              "          element.innerHTML = '';\n",
              "          dataTable['output_type'] = 'display_data';\n",
              "          await google.colab.output.renderOutput(dataTable, element);\n",
              "          const docLink = document.createElement('div');\n",
              "          docLink.innerHTML = docLinkHtml;\n",
              "          element.appendChild(docLink);\n",
              "        }\n",
              "      </script>\n",
              "    </div>\n",
              "  </div>\n",
              "  "
            ],
            "text/plain": [
              "         footfall  cart_size  item_cost  revenue\n",
              "shop_id                                         \n",
              "86           61.0   1.934426      196.0  23128.0"
            ]
          },
          "metadata": {},
          "execution_count": 16
        }
      ]
    },
    {
      "cell_type": "markdown",
      "source": [
        "**Miminum revenue store**"
      ],
      "metadata": {
        "id": "HkRq05wLPoFA"
      }
    },
    {
      "cell_type": "code",
      "source": [
        "metrics[metrics[\"revenue\"] == metrics[\"revenue\"].min()]"
      ],
      "metadata": {
        "colab": {
          "base_uri": "https://localhost:8080/",
          "height": 112
        },
        "id": "Z9ELM1nOPL4p",
        "outputId": "0167e8e6-5beb-4f62-f418-ee378d42878c"
      },
      "execution_count": 17,
      "outputs": [
        {
          "output_type": "execute_result",
          "data": {
            "text/html": [
              "\n",
              "  <div id=\"df-85f2bd35-7191-409b-ae5e-0d8b28cd0f06\">\n",
              "    <div class=\"colab-df-container\">\n",
              "      <div>\n",
              "<style scoped>\n",
              "    .dataframe tbody tr th:only-of-type {\n",
              "        vertical-align: middle;\n",
              "    }\n",
              "\n",
              "    .dataframe tbody tr th {\n",
              "        vertical-align: top;\n",
              "    }\n",
              "\n",
              "    .dataframe thead th {\n",
              "        text-align: right;\n",
              "    }\n",
              "</style>\n",
              "<table border=\"1\" class=\"dataframe\">\n",
              "  <thead>\n",
              "    <tr style=\"text-align: right;\">\n",
              "      <th></th>\n",
              "      <th>footfall</th>\n",
              "      <th>cart_size</th>\n",
              "      <th>item_cost</th>\n",
              "      <th>revenue</th>\n",
              "    </tr>\n",
              "    <tr>\n",
              "      <th>shop_id</th>\n",
              "      <th></th>\n",
              "      <th></th>\n",
              "      <th></th>\n",
              "      <th></th>\n",
              "    </tr>\n",
              "  </thead>\n",
              "  <tbody>\n",
              "    <tr>\n",
              "      <th>89</th>\n",
              "      <td>42.0</td>\n",
              "      <td>1.809524</td>\n",
              "      <td>90.0</td>\n",
              "      <td>6840.0</td>\n",
              "    </tr>\n",
              "  </tbody>\n",
              "</table>\n",
              "</div>\n",
              "      <button class=\"colab-df-convert\" onclick=\"convertToInteractive('df-85f2bd35-7191-409b-ae5e-0d8b28cd0f06')\"\n",
              "              title=\"Convert this dataframe to an interactive table.\"\n",
              "              style=\"display:none;\">\n",
              "        \n",
              "  <svg xmlns=\"http://www.w3.org/2000/svg\" height=\"24px\"viewBox=\"0 0 24 24\"\n",
              "       width=\"24px\">\n",
              "    <path d=\"M0 0h24v24H0V0z\" fill=\"none\"/>\n",
              "    <path d=\"M18.56 5.44l.94 2.06.94-2.06 2.06-.94-2.06-.94-.94-2.06-.94 2.06-2.06.94zm-11 1L8.5 8.5l.94-2.06 2.06-.94-2.06-.94L8.5 2.5l-.94 2.06-2.06.94zm10 10l.94 2.06.94-2.06 2.06-.94-2.06-.94-.94-2.06-.94 2.06-2.06.94z\"/><path d=\"M17.41 7.96l-1.37-1.37c-.4-.4-.92-.59-1.43-.59-.52 0-1.04.2-1.43.59L10.3 9.45l-7.72 7.72c-.78.78-.78 2.05 0 2.83L4 21.41c.39.39.9.59 1.41.59.51 0 1.02-.2 1.41-.59l7.78-7.78 2.81-2.81c.8-.78.8-2.07 0-2.86zM5.41 20L4 18.59l7.72-7.72 1.47 1.35L5.41 20z\"/>\n",
              "  </svg>\n",
              "      </button>\n",
              "      \n",
              "  <style>\n",
              "    .colab-df-container {\n",
              "      display:flex;\n",
              "      flex-wrap:wrap;\n",
              "      gap: 12px;\n",
              "    }\n",
              "\n",
              "    .colab-df-convert {\n",
              "      background-color: #E8F0FE;\n",
              "      border: none;\n",
              "      border-radius: 50%;\n",
              "      cursor: pointer;\n",
              "      display: none;\n",
              "      fill: #1967D2;\n",
              "      height: 32px;\n",
              "      padding: 0 0 0 0;\n",
              "      width: 32px;\n",
              "    }\n",
              "\n",
              "    .colab-df-convert:hover {\n",
              "      background-color: #E2EBFA;\n",
              "      box-shadow: 0px 1px 2px rgba(60, 64, 67, 0.3), 0px 1px 3px 1px rgba(60, 64, 67, 0.15);\n",
              "      fill: #174EA6;\n",
              "    }\n",
              "\n",
              "    [theme=dark] .colab-df-convert {\n",
              "      background-color: #3B4455;\n",
              "      fill: #D2E3FC;\n",
              "    }\n",
              "\n",
              "    [theme=dark] .colab-df-convert:hover {\n",
              "      background-color: #434B5C;\n",
              "      box-shadow: 0px 1px 3px 1px rgba(0, 0, 0, 0.15);\n",
              "      filter: drop-shadow(0px 1px 2px rgba(0, 0, 0, 0.3));\n",
              "      fill: #FFFFFF;\n",
              "    }\n",
              "  </style>\n",
              "\n",
              "      <script>\n",
              "        const buttonEl =\n",
              "          document.querySelector('#df-85f2bd35-7191-409b-ae5e-0d8b28cd0f06 button.colab-df-convert');\n",
              "        buttonEl.style.display =\n",
              "          google.colab.kernel.accessAllowed ? 'block' : 'none';\n",
              "\n",
              "        async function convertToInteractive(key) {\n",
              "          const element = document.querySelector('#df-85f2bd35-7191-409b-ae5e-0d8b28cd0f06');\n",
              "          const dataTable =\n",
              "            await google.colab.kernel.invokeFunction('convertToInteractive',\n",
              "                                                     [key], {});\n",
              "          if (!dataTable) return;\n",
              "\n",
              "          const docLinkHtml = 'Like what you see? Visit the ' +\n",
              "            '<a target=\"_blank\" href=https://colab.research.google.com/notebooks/data_table.ipynb>data table notebook</a>'\n",
              "            + ' to learn more about interactive tables.';\n",
              "          element.innerHTML = '';\n",
              "          dataTable['output_type'] = 'display_data';\n",
              "          await google.colab.output.renderOutput(dataTable, element);\n",
              "          const docLink = document.createElement('div');\n",
              "          docLink.innerHTML = docLinkHtml;\n",
              "          element.appendChild(docLink);\n",
              "        }\n",
              "      </script>\n",
              "    </div>\n",
              "  </div>\n",
              "  "
            ],
            "text/plain": [
              "         footfall  cart_size  item_cost  revenue\n",
              "shop_id                                         \n",
              "89           42.0   1.809524       90.0   6840.0"
            ]
          },
          "metadata": {},
          "execution_count": 17
        }
      ]
    },
    {
      "cell_type": "markdown",
      "source": [
        "These numbers clearly indicate that the store generating the highest revenue had on average more expensive sneakers, and more number of items being bought per order. Additionally, the store also had greater number of visitors."
      ],
      "metadata": {
        "id": "bC5KkuOuPp8v"
      }
    },
    {
      "cell_type": "markdown",
      "source": [
        "The plots below show how the metrics `footfall`, `cart_size`, and `item_cost` influence `revenue` of a store, and what sort of inferences we can draw from them."
      ],
      "metadata": {
        "id": "4guA3GCdQAvJ"
      }
    },
    {
      "cell_type": "code",
      "source": [
        "fig, ax = plt.subplots(1, 3, sharey=True, figsize=(20, 5))\n",
        "metrics[[\"footfall\", \"revenue\"]].plot.scatter(ax=ax[0], x=\"footfall\", y=\"revenue\")\n",
        "metrics[[\"cart_size\", \"revenue\"]].plot.scatter(ax=ax[1], x=\"cart_size\", y=\"revenue\")\n",
        "metrics[[\"item_cost\", \"revenue\"]].plot.scatter(ax=ax[2], x=\"item_cost\", y=\"revenue\")\n",
        "\n",
        "ax[0].set_xlabel(\"footfall\", size=12)\n",
        "ax[0].set_ylabel(\"Revenue\", size=12)\n",
        "ax[0].set_title(\"Footfall vs Revenue for all shops\", size=15)\n",
        "\n",
        "ax[1].set_xlabel(\"cart_size\", size=12)\n",
        "ax[1].set_title(\"Cart Size vs Revenue for all shops\", size=15)\n",
        "\n",
        "ax[2].set_xlabel(\"item_cost\", size=12)\n",
        "ax[2].set_title(\"Item Cost vs Revenue for all shops\", size=15)\n",
        "\n",
        "plt.show()"
      ],
      "metadata": {
        "colab": {
          "base_uri": "https://localhost:8080/",
          "height": 355
        },
        "id": "te-ZLNVQpqxW",
        "outputId": "dbd70edf-32c0-44a5-c67e-e8667f734ed5"
      },
      "execution_count": 18,
      "outputs": [
        {
          "output_type": "display_data",
          "data": {
            "image/png": "[encoded data removed]",
            "text/plain": [
              "<Figure size 1440x360 with 3 Axes>"
            ]
          },
          "metadata": {
            "needs_background": "light"
          }
        }
      ]
    },
    {
      "cell_type": "markdown",
      "source": [
        "The left-most graph indicates that the revenue of each store generally increases with the number of customers visiting the store. However, there are quite a few cases where stores with lower footfall outperformed stores with higher footfall. This could be because some stores sell expensive sneakers, and hence need lower number of customers to generate same or greater revenue. There could be many other reasons that should ideally be analysed using datasets about the stores itself.\n",
        "\n",
        "The middle graph indicates that similar to footfall, the revenue also generally increases with the average number of items in each order at a store. However, there are more deviations here. This makes sense, as stores with expensive sneakers can easy outperform other stores by even selling less pairs of sneakers in each order.\n",
        "\n",
        "Lastly, the right most graph is similar in its story that if the average price of a sneaker being sold at a store is high, the revenue generated will also be high. There are deviations in this case as well, and we should use the data of individual stores to judge what they are doing right and what they are doing wrong, which will enable us to propose steps for the business to improve revenue across all underperformers."
      ],
      "metadata": {
        "id": "HORe_7Zy7y2q"
      }
    },
    {
      "cell_type": "markdown",
      "source": [
        "****"
      ],
      "metadata": {
        "id": "lEzqp984TCQ3"
      }
    }
  ]
}